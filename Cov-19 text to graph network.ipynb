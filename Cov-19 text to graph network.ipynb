{
 "cells": [
  {
   "cell_type": "code",
   "execution_count": 1,
   "id": "c3afe8f2",
   "metadata": {},
   "outputs": [],
   "source": [
    "import warnings\n",
    "def warn(*arg, **kwarg):\n",
    "    pass\n",
    "warnings.warn = warn\n",
    "\n",
    "\n"
   ]
  },
  {
   "cell_type": "code",
   "execution_count": 2,
   "id": "b4e150d5",
   "metadata": {},
   "outputs": [
    {
     "name": "stdout",
     "output_type": "stream",
     "text": [
      "Requirement already satisfied: numpy in c:\\users\\mohammad sabber\\appdata\\local\\programs\\python\\python39\\lib\\site-packages (1.21.2)\n"
     ]
    },
    {
     "name": "stderr",
     "output_type": "stream",
     "text": [
      "WARNING: You are using pip version 21.1.3; however, version 21.2.4 is available.\n",
      "You should consider upgrading via the 'c:\\users\\mohammad sabber\\appdata\\local\\programs\\python\\python39\\python.exe -m pip install --upgrade pip' command.\n"
     ]
    },
    {
     "name": "stdout",
     "output_type": "stream",
     "text": [
      "Requirement already satisfied: pandas in c:\\users\\mohammad sabber\\appdata\\local\\programs\\python\\python39\\lib\\site-packages (1.3.2)\n",
      "Requirement already satisfied: numpy>=1.17.3 in c:\\users\\mohammad sabber\\appdata\\local\\programs\\python\\python39\\lib\\site-packages (from pandas) (1.21.2)\n",
      "Requirement already satisfied: python-dateutil>=2.7.3 in c:\\users\\mohammad sabber\\appdata\\local\\programs\\python\\python39\\lib\\site-packages (from pandas) (2.8.2)\n",
      "Requirement already satisfied: pytz>=2017.3 in c:\\users\\mohammad sabber\\appdata\\local\\programs\\python\\python39\\lib\\site-packages (from pandas) (2021.1)\n",
      "Requirement already satisfied: six>=1.5 in c:\\users\\mohammad sabber\\appdata\\local\\programs\\python\\python39\\lib\\site-packages (from python-dateutil>=2.7.3->pandas) (1.16.0)\n"
     ]
    },
    {
     "name": "stderr",
     "output_type": "stream",
     "text": [
      "WARNING: You are using pip version 21.1.3; however, version 21.2.4 is available.\n",
      "You should consider upgrading via the 'c:\\users\\mohammad sabber\\appdata\\local\\programs\\python\\python39\\python.exe -m pip install --upgrade pip' command.\n",
      "WARNING: You are using pip version 21.1.3; however, version 21.2.4 is available.\n",
      "You should consider upgrading via the 'c:\\users\\mohammad sabber\\appdata\\local\\programs\\python\\python39\\python.exe -m pip install --upgrade pip' command.\n"
     ]
    },
    {
     "name": "stdout",
     "output_type": "stream",
     "text": [
      "Requirement already satisfied: matplotlib in c:\\users\\mohammad sabber\\appdata\\local\\programs\\python\\python39\\lib\\site-packages (3.4.3)\n",
      "Requirement already satisfied: pyparsing>=2.2.1 in c:\\users\\mohammad sabber\\appdata\\local\\programs\\python\\python39\\lib\\site-packages (from matplotlib) (2.4.7)\n",
      "Requirement already satisfied: python-dateutil>=2.7 in c:\\users\\mohammad sabber\\appdata\\local\\programs\\python\\python39\\lib\\site-packages (from matplotlib) (2.8.2)\n",
      "Requirement already satisfied: numpy>=1.16 in c:\\users\\mohammad sabber\\appdata\\local\\programs\\python\\python39\\lib\\site-packages (from matplotlib) (1.21.2)\n",
      "Requirement already satisfied: kiwisolver>=1.0.1 in c:\\users\\mohammad sabber\\appdata\\local\\programs\\python\\python39\\lib\\site-packages (from matplotlib) (1.3.1)\n",
      "Requirement already satisfied: pillow>=6.2.0 in c:\\users\\mohammad sabber\\appdata\\local\\programs\\python\\python39\\lib\\site-packages (from matplotlib) (8.3.1)\n",
      "Requirement already satisfied: cycler>=0.10 in c:\\users\\mohammad sabber\\appdata\\local\\programs\\python\\python39\\lib\\site-packages (from matplotlib) (0.10.0)\n",
      "Requirement already satisfied: six in c:\\users\\mohammad sabber\\appdata\\local\\programs\\python\\python39\\lib\\site-packages (from cycler>=0.10->matplotlib) (1.16.0)\n"
     ]
    }
   ],
   "source": [
    "!pip install numpy\n",
    "!pip install pandas\n",
    "!pip install matplotlib\n",
    "import numpy as np # linear algebra\n",
    "\n",
    "import pandas as pd # data processing, CSV file I/O (e.g. pd.read_csv)\n",
    "import matplotlib.pyplot as plt\n",
    "plt.style.use('ggplot')\n",
    "import glob\n",
    "import json\n",
    "from IPython.display import Image\n",
    "\n",
    "\n"
   ]
  },
  {
   "cell_type": "code",
   "execution_count": 3,
   "id": "595d4662",
   "metadata": {},
   "outputs": [
    {
     "name": "stderr",
     "output_type": "stream",
     "text": [
      "WARNING: You are using pip version 21.1.3; however, version 21.2.4 is available.\n",
      "You should consider upgrading via the 'c:\\users\\mohammad sabber\\appdata\\local\\programs\\python\\python39\\python.exe -m pip install --upgrade pip' command.\n"
     ]
    },
    {
     "name": "stdout",
     "output_type": "stream",
     "text": [
      "Requirement already satisfied: py2neo in c:\\users\\mohammad sabber\\appdata\\local\\programs\\python\\python39\\lib\\site-packages (2021.1.5)\n",
      "Requirement already satisfied: packaging in c:\\users\\mohammad sabber\\appdata\\local\\programs\\python\\python39\\lib\\site-packages (from py2neo) (21.0)\n",
      "Requirement already satisfied: prompt-toolkit>=2.0.7 in c:\\users\\mohammad sabber\\appdata\\local\\programs\\python\\python39\\lib\\site-packages (from py2neo) (3.0.19)\n",
      "Requirement already satisfied: monotonic in c:\\users\\mohammad sabber\\appdata\\local\\programs\\python\\python39\\lib\\site-packages (from py2neo) (1.6)\n",
      "Requirement already satisfied: cryptography in c:\\users\\mohammad sabber\\appdata\\local\\programs\\python\\python39\\lib\\site-packages (from py2neo) (3.4.7)\n",
      "Requirement already satisfied: pansi>=2020.7.3 in c:\\users\\mohammad sabber\\appdata\\local\\programs\\python\\python39\\lib\\site-packages (from py2neo) (2020.7.3)\n",
      "Requirement already satisfied: urllib3 in c:\\users\\mohammad sabber\\appdata\\local\\programs\\python\\python39\\lib\\site-packages (from py2neo) (1.26.6)\n",
      "Requirement already satisfied: six>=1.15.0 in c:\\users\\mohammad sabber\\appdata\\local\\programs\\python\\python39\\lib\\site-packages (from py2neo) (1.16.0)\n",
      "Requirement already satisfied: docker in c:\\users\\mohammad sabber\\appdata\\local\\programs\\python\\python39\\lib\\site-packages (from py2neo) (5.0.0)\n",
      "Requirement already satisfied: pytz in c:\\users\\mohammad sabber\\appdata\\local\\programs\\python\\python39\\lib\\site-packages (from py2neo) (2021.1)\n",
      "Requirement already satisfied: pygments>=2.0.0 in c:\\users\\mohammad sabber\\appdata\\local\\programs\\python\\python39\\lib\\site-packages (from py2neo) (2.10.0)\n",
      "Requirement already satisfied: neotime~=1.7.4 in c:\\users\\mohammad sabber\\appdata\\local\\programs\\python\\python39\\lib\\site-packages (from py2neo) (1.7.4)\n",
      "Requirement already satisfied: english in c:\\users\\mohammad sabber\\appdata\\local\\programs\\python\\python39\\lib\\site-packages (from py2neo) (2020.7.0)\n",
      "Requirement already satisfied: certifi in c:\\users\\mohammad sabber\\appdata\\local\\programs\\python\\python39\\lib\\site-packages (from py2neo) (2021.5.30)\n",
      "Requirement already satisfied: wcwidth in c:\\users\\mohammad sabber\\appdata\\local\\programs\\python\\python39\\lib\\site-packages (from prompt-toolkit>=2.0.7->py2neo) (0.2.5)\n",
      "Requirement already satisfied: cffi>=1.12 in c:\\users\\mohammad sabber\\appdata\\local\\programs\\python\\python39\\lib\\site-packages (from cryptography->py2neo) (1.14.6)\n",
      "Requirement already satisfied: pycparser in c:\\users\\mohammad sabber\\appdata\\local\\programs\\python\\python39\\lib\\site-packages (from cffi>=1.12->cryptography->py2neo) (2.20)\n",
      "Requirement already satisfied: requests!=2.18.0,>=2.14.2 in c:\\users\\mohammad sabber\\appdata\\local\\programs\\python\\python39\\lib\\site-packages (from docker->py2neo) (2.26.0)\n",
      "Requirement already satisfied: websocket-client>=0.32.0 in c:\\users\\mohammad sabber\\appdata\\local\\programs\\python\\python39\\lib\\site-packages (from docker->py2neo) (1.2.1)\n",
      "Requirement already satisfied: pywin32==227 in c:\\users\\mohammad sabber\\appdata\\local\\programs\\python\\python39\\lib\\site-packages (from docker->py2neo) (227)\n",
      "Requirement already satisfied: charset-normalizer~=2.0.0 in c:\\users\\mohammad sabber\\appdata\\local\\programs\\python\\python39\\lib\\site-packages (from requests!=2.18.0,>=2.14.2->docker->py2neo) (2.0.4)\n",
      "Requirement already satisfied: idna<4,>=2.5 in c:\\users\\mohammad sabber\\appdata\\local\\programs\\python\\python39\\lib\\site-packages (from requests!=2.18.0,>=2.14.2->docker->py2neo) (3.2)\n",
      "Requirement already satisfied: pyparsing>=2.0.2 in c:\\users\\mohammad sabber\\appdata\\local\\programs\\python\\python39\\lib\\site-packages (from packaging->py2neo) (2.4.7)\n"
     ]
    }
   ],
   "source": [
    "!pip install py2neo\n",
    "import py2neo\n",
    "from py2neo import Graph\n",
    "\n"
   ]
  },
  {
   "cell_type": "code",
   "execution_count": 4,
   "id": "22045e44",
   "metadata": {},
   "outputs": [
    {
     "name": "stderr",
     "output_type": "stream",
     "text": [
      "WARNING: You are using pip version 21.1.3; however, version 21.2.4 is available.\n",
      "You should consider upgrading via the 'c:\\users\\mohammad sabber\\appdata\\local\\programs\\python\\python39\\python.exe -m pip install --upgrade pip' command.\n"
     ]
    },
    {
     "name": "stdout",
     "output_type": "stream",
     "text": [
      "Requirement already satisfied: jgraph in c:\\users\\mohammad sabber\\appdata\\local\\programs\\python\\python39\\lib\\site-packages (0.2.1)\n",
      "Requirement already satisfied: ipython in c:\\users\\mohammad sabber\\appdata\\local\\programs\\python\\python39\\lib\\site-packages (from jgraph) (7.26.0)\n",
      "Requirement already satisfied: decorator in c:\\users\\mohammad sabber\\appdata\\local\\programs\\python\\python39\\lib\\site-packages (from ipython->jgraph) (5.0.9)\n",
      "Requirement already satisfied: matplotlib-inline in c:\\users\\mohammad sabber\\appdata\\local\\programs\\python\\python39\\lib\\site-packages (from ipython->jgraph) (0.1.2)\n",
      "Requirement already satisfied: prompt-toolkit!=3.0.0,!=3.0.1,<3.1.0,>=2.0.0 in c:\\users\\mohammad sabber\\appdata\\local\\programs\\python\\python39\\lib\\site-packages (from ipython->jgraph) (3.0.19)\n",
      "Requirement already satisfied: setuptools>=18.5 in c:\\users\\mohammad sabber\\appdata\\local\\programs\\python\\python39\\lib\\site-packages (from ipython->jgraph) (56.0.0)\n",
      "Requirement already satisfied: pickleshare in c:\\users\\mohammad sabber\\appdata\\local\\programs\\python\\python39\\lib\\site-packages (from ipython->jgraph) (0.7.5)\n",
      "Requirement already satisfied: backcall in c:\\users\\mohammad sabber\\appdata\\local\\programs\\python\\python39\\lib\\site-packages (from ipython->jgraph) (0.2.0)\n",
      "Requirement already satisfied: pygments in c:\\users\\mohammad sabber\\appdata\\local\\programs\\python\\python39\\lib\\site-packages (from ipython->jgraph) (2.10.0)\n",
      "Requirement already satisfied: jedi>=0.16 in c:\\users\\mohammad sabber\\appdata\\local\\programs\\python\\python39\\lib\\site-packages (from ipython->jgraph) (0.18.0)\n",
      "Requirement already satisfied: traitlets>=4.2 in c:\\users\\mohammad sabber\\appdata\\local\\programs\\python\\python39\\lib\\site-packages (from ipython->jgraph) (5.0.5)\n",
      "Requirement already satisfied: colorama in c:\\users\\mohammad sabber\\appdata\\local\\programs\\python\\python39\\lib\\site-packages (from ipython->jgraph) (0.4.4)\n",
      "Requirement already satisfied: parso<0.9.0,>=0.8.0 in c:\\users\\mohammad sabber\\appdata\\local\\programs\\python\\python39\\lib\\site-packages (from jedi>=0.16->ipython->jgraph) (0.8.2)\n",
      "Requirement already satisfied: wcwidth in c:\\users\\mohammad sabber\\appdata\\local\\programs\\python\\python39\\lib\\site-packages (from prompt-toolkit!=3.0.0,!=3.0.1,<3.1.0,>=2.0.0->ipython->jgraph) (0.2.5)\n",
      "Requirement already satisfied: ipython-genutils in c:\\users\\mohammad sabber\\appdata\\local\\programs\\python\\python39\\lib\\site-packages (from traitlets>=4.2->ipython->jgraph) (0.2.0)\n"
     ]
    }
   ],
   "source": [
    "!pip install jgraph\n",
    "import jgraph as IGraph\n",
    "from IPython.display import Image\n",
    "from IPython.core.display import HTML "
   ]
  },
  {
   "cell_type": "code",
   "execution_count": 5,
   "id": "15786c45",
   "metadata": {},
   "outputs": [],
   "source": [
    "import numpy as np\n",
    "import pandas as pd\n",
    "\n",
    "# Other\n",
    "import re\n",
    "import string\n",
    "\n"
   ]
  },
  {
   "cell_type": "code",
   "execution_count": 6,
   "id": "8aaf1236",
   "metadata": {},
   "outputs": [
    {
     "name": "stderr",
     "output_type": "stream",
     "text": [
      "WARNING: You are using pip version 21.1.3; however, version 21.2.4 is available.\n",
      "You should consider upgrading via the 'c:\\users\\mohammad sabber\\appdata\\local\\programs\\python\\python39\\python.exe -m pip install --upgrade pip' command.\n"
     ]
    },
    {
     "name": "stdout",
     "output_type": "stream",
     "text": [
      "Requirement already satisfied: nltk in c:\\users\\mohammad sabber\\appdata\\local\\programs\\python\\python39\\lib\\site-packages (3.6.2)\n",
      "Requirement already satisfied: joblib in c:\\users\\mohammad sabber\\appdata\\local\\programs\\python\\python39\\lib\\site-packages (from nltk) (1.0.1)\n",
      "Requirement already satisfied: click in c:\\users\\mohammad sabber\\appdata\\local\\programs\\python\\python39\\lib\\site-packages (from nltk) (8.0.1)\n",
      "Requirement already satisfied: tqdm in c:\\users\\mohammad sabber\\appdata\\local\\programs\\python\\python39\\lib\\site-packages (from nltk) (4.62.1)\n",
      "Requirement already satisfied: regex in c:\\users\\mohammad sabber\\appdata\\local\\programs\\python\\python39\\lib\\site-packages (from nltk) (2021.8.3)\n",
      "Requirement already satisfied: colorama in c:\\users\\mohammad sabber\\appdata\\local\\programs\\python\\python39\\lib\\site-packages (from click->nltk) (0.4.4)\n"
     ]
    }
   ],
   "source": [
    "# NLTK\n",
    "!pip install nltk\n",
    "import nltk\n",
    "from nltk.corpus import stopwords\n",
    "from nltk.stem import SnowballStemmer"
   ]
  },
  {
   "cell_type": "code",
   "execution_count": 7,
   "id": "d1bd5cee",
   "metadata": {},
   "outputs": [
    {
     "name": "stderr",
     "output_type": "stream",
     "text": [
      "WARNING: You are using pip version 21.1.3; however, version 21.2.4 is available.\n",
      "You should consider upgrading via the 'c:\\users\\mohammad sabber\\appdata\\local\\programs\\python\\python39\\python.exe -m pip install --upgrade pip' command.\n"
     ]
    },
    {
     "name": "stdout",
     "output_type": "stream",
     "text": [
      "Requirement already satisfied: plotly in c:\\users\\mohammad sabber\\appdata\\local\\programs\\python\\python39\\lib\\site-packages (5.2.1)\n",
      "Requirement already satisfied: six in c:\\users\\mohammad sabber\\appdata\\local\\programs\\python\\python39\\lib\\site-packages (from plotly) (1.16.0)\n",
      "Requirement already satisfied: tenacity>=6.2.0 in c:\\users\\mohammad sabber\\appdata\\local\\programs\\python\\python39\\lib\\site-packages (from plotly) (8.0.1)\n"
     ]
    },
    {
     "data": {
      "text/html": [
       "        <script type=\"text/javascript\">\n",
       "        window.PlotlyConfig = {MathJaxConfig: 'local'};\n",
       "        if (window.MathJax) {MathJax.Hub.Config({SVG: {font: \"STIX-Web\"}});}\n",
       "        if (typeof require !== 'undefined') {\n",
       "        require.undef(\"plotly\");\n",
       "        requirejs.config({\n",
       "            paths: {\n",
       "                'plotly': ['https://cdn.plot.ly/plotly-2.3.1.min']\n",
       "            }\n",
       "        });\n",
       "        require(['plotly'], function(Plotly) {\n",
       "            window._Plotly = Plotly;\n",
       "        });\n",
       "        }\n",
       "        </script>\n",
       "        "
      ]
     },
     "metadata": {},
     "output_type": "display_data"
    }
   ],
   "source": [
    "## Plot\n",
    "!pip install plotly\n",
    "import plotly.offline as py\n",
    "import plotly.graph_objs as go\n",
    "py.init_notebook_mode(connected=True)\n",
    "import matplotlib as plt"
   ]
  },
  {
   "cell_type": "code",
   "execution_count": 8,
   "id": "e8725df3",
   "metadata": {},
   "outputs": [],
   "source": [
    "root_path = 'C:/Users/Mohammad Sabber/Desktop/demo'\n",
    "metadata_path = f'{root_path}/metadata.csv'\n",
    "\n"
   ]
  },
  {
   "cell_type": "code",
   "execution_count": 9,
   "id": "93dc0701",
   "metadata": {},
   "outputs": [
    {
     "data": {
      "text/plain": [
       "'C:/Users/Mohammad Sabber/Desktop/demo/metadata.csv'"
      ]
     },
     "execution_count": 9,
     "metadata": {},
     "output_type": "execute_result"
    }
   ],
   "source": [
    "metadata_path"
   ]
  },
  {
   "cell_type": "code",
   "execution_count": 10,
   "id": "b0fecbd9",
   "metadata": {},
   "outputs": [
    {
     "data": {
      "text/html": [
       "<div>\n",
       "<style scoped>\n",
       "    .dataframe tbody tr th:only-of-type {\n",
       "        vertical-align: middle;\n",
       "    }\n",
       "\n",
       "    .dataframe tbody tr th {\n",
       "        vertical-align: top;\n",
       "    }\n",
       "\n",
       "    .dataframe thead th {\n",
       "        text-align: right;\n",
       "    }\n",
       "</style>\n",
       "<table border=\"1\" class=\"dataframe\">\n",
       "  <thead>\n",
       "    <tr style=\"text-align: right;\">\n",
       "      <th></th>\n",
       "      <th>cord_uid</th>\n",
       "      <th>sha</th>\n",
       "      <th>source_x</th>\n",
       "      <th>title</th>\n",
       "      <th>doi</th>\n",
       "      <th>pmcid</th>\n",
       "      <th>pubmed_id</th>\n",
       "      <th>license</th>\n",
       "      <th>abstract</th>\n",
       "      <th>publish_time</th>\n",
       "      <th>authors</th>\n",
       "      <th>journal</th>\n",
       "      <th>mag_id</th>\n",
       "      <th>who_covidence_id</th>\n",
       "      <th>arxiv_id</th>\n",
       "      <th>pdf_json_files</th>\n",
       "      <th>pmc_json_files</th>\n",
       "      <th>url</th>\n",
       "      <th>s2_id</th>\n",
       "    </tr>\n",
       "  </thead>\n",
       "  <tbody>\n",
       "    <tr>\n",
       "      <th>0</th>\n",
       "      <td>ug7v899j</td>\n",
       "      <td>d1aafb70c066a2068b02786f8929fd9c900897fb</td>\n",
       "      <td>PMC</td>\n",
       "      <td>Clinical features of culture-proven Mycoplasma...</td>\n",
       "      <td>10.1186/1471-2334-1-6</td>\n",
       "      <td>PMC35282</td>\n",
       "      <td>11472636</td>\n",
       "      <td>no-cc</td>\n",
       "      <td>OBJECTIVE: This retrospective chart review des...</td>\n",
       "      <td>2001-07-04</td>\n",
       "      <td>Madani, Tariq A; Al-Ghamdi, Aisha A</td>\n",
       "      <td>BMC Infect Dis</td>\n",
       "      <td>NaN</td>\n",
       "      <td>NaN</td>\n",
       "      <td>NaN</td>\n",
       "      <td>document_parses/pdf_json/d1aafb70c066a2068b027...</td>\n",
       "      <td>document_parses/pmc_json/PMC35282.xml.json</td>\n",
       "      <td>https://www.ncbi.nlm.nih.gov/pmc/articles/PMC3...</td>\n",
       "      <td>NaN</td>\n",
       "    </tr>\n",
       "    <tr>\n",
       "      <th>1</th>\n",
       "      <td>02tnwd4m</td>\n",
       "      <td>6b0567729c2143a66d737eb0a2f63f2dce2e5a7d</td>\n",
       "      <td>PMC</td>\n",
       "      <td>Nitric oxide: a pro-inflammatory mediator in l...</td>\n",
       "      <td>10.1186/rr14</td>\n",
       "      <td>PMC59543</td>\n",
       "      <td>11667967</td>\n",
       "      <td>no-cc</td>\n",
       "      <td>Inflammatory diseases of the respiratory tract...</td>\n",
       "      <td>2000-08-15</td>\n",
       "      <td>Vliet, Albert van der; Eiserich, Jason P; Cros...</td>\n",
       "      <td>Respir Res</td>\n",
       "      <td>NaN</td>\n",
       "      <td>NaN</td>\n",
       "      <td>NaN</td>\n",
       "      <td>document_parses/pdf_json/6b0567729c2143a66d737...</td>\n",
       "      <td>document_parses/pmc_json/PMC59543.xml.json</td>\n",
       "      <td>https://www.ncbi.nlm.nih.gov/pmc/articles/PMC5...</td>\n",
       "      <td>NaN</td>\n",
       "    </tr>\n",
       "    <tr>\n",
       "      <th>2</th>\n",
       "      <td>ejv2xln0</td>\n",
       "      <td>06ced00a5fc04215949aa72528f2eeaae1d58927</td>\n",
       "      <td>PMC</td>\n",
       "      <td>Surfactant protein-D and pulmonary host defense</td>\n",
       "      <td>10.1186/rr19</td>\n",
       "      <td>PMC59549</td>\n",
       "      <td>11667972</td>\n",
       "      <td>no-cc</td>\n",
       "      <td>Surfactant protein-D (SP-D) participates in th...</td>\n",
       "      <td>2000-08-25</td>\n",
       "      <td>Crouch, Erika C</td>\n",
       "      <td>Respir Res</td>\n",
       "      <td>NaN</td>\n",
       "      <td>NaN</td>\n",
       "      <td>NaN</td>\n",
       "      <td>document_parses/pdf_json/06ced00a5fc04215949aa...</td>\n",
       "      <td>document_parses/pmc_json/PMC59549.xml.json</td>\n",
       "      <td>https://www.ncbi.nlm.nih.gov/pmc/articles/PMC5...</td>\n",
       "      <td>NaN</td>\n",
       "    </tr>\n",
       "  </tbody>\n",
       "</table>\n",
       "</div>"
      ],
      "text/plain": [
       "   cord_uid                                       sha source_x  \\\n",
       "0  ug7v899j  d1aafb70c066a2068b02786f8929fd9c900897fb      PMC   \n",
       "1  02tnwd4m  6b0567729c2143a66d737eb0a2f63f2dce2e5a7d      PMC   \n",
       "2  ejv2xln0  06ced00a5fc04215949aa72528f2eeaae1d58927      PMC   \n",
       "\n",
       "                                               title                    doi  \\\n",
       "0  Clinical features of culture-proven Mycoplasma...  10.1186/1471-2334-1-6   \n",
       "1  Nitric oxide: a pro-inflammatory mediator in l...           10.1186/rr14   \n",
       "2    Surfactant protein-D and pulmonary host defense           10.1186/rr19   \n",
       "\n",
       "      pmcid pubmed_id license  \\\n",
       "0  PMC35282  11472636   no-cc   \n",
       "1  PMC59543  11667967   no-cc   \n",
       "2  PMC59549  11667972   no-cc   \n",
       "\n",
       "                                            abstract publish_time  \\\n",
       "0  OBJECTIVE: This retrospective chart review des...   2001-07-04   \n",
       "1  Inflammatory diseases of the respiratory tract...   2000-08-15   \n",
       "2  Surfactant protein-D (SP-D) participates in th...   2000-08-25   \n",
       "\n",
       "                                             authors         journal  mag_id  \\\n",
       "0                Madani, Tariq A; Al-Ghamdi, Aisha A  BMC Infect Dis     NaN   \n",
       "1  Vliet, Albert van der; Eiserich, Jason P; Cros...      Respir Res     NaN   \n",
       "2                                    Crouch, Erika C      Respir Res     NaN   \n",
       "\n",
       "  who_covidence_id arxiv_id  \\\n",
       "0              NaN      NaN   \n",
       "1              NaN      NaN   \n",
       "2              NaN      NaN   \n",
       "\n",
       "                                      pdf_json_files  \\\n",
       "0  document_parses/pdf_json/d1aafb70c066a2068b027...   \n",
       "1  document_parses/pdf_json/6b0567729c2143a66d737...   \n",
       "2  document_parses/pdf_json/06ced00a5fc04215949aa...   \n",
       "\n",
       "                               pmc_json_files  \\\n",
       "0  document_parses/pmc_json/PMC35282.xml.json   \n",
       "1  document_parses/pmc_json/PMC59543.xml.json   \n",
       "2  document_parses/pmc_json/PMC59549.xml.json   \n",
       "\n",
       "                                                 url  s2_id  \n",
       "0  https://www.ncbi.nlm.nih.gov/pmc/articles/PMC3...    NaN  \n",
       "1  https://www.ncbi.nlm.nih.gov/pmc/articles/PMC5...    NaN  \n",
       "2  https://www.ncbi.nlm.nih.gov/pmc/articles/PMC5...    NaN  "
      ]
     },
     "execution_count": 10,
     "metadata": {},
     "output_type": "execute_result"
    }
   ],
   "source": [
    "meta_df = pd.read_csv(metadata_path, dtype={\n",
    "    'pubmed_id': str,\n",
    "    'Microsoft Academic Paper ID': str, \n",
    "    'doi': str,\n",
    "})\n",
    "meta_df.head(3)"
   ]
  },
  {
   "cell_type": "code",
   "execution_count": 11,
   "id": "ecf67781",
   "metadata": {},
   "outputs": [
    {
     "data": {
      "text/plain": [
       "(522159, 19)"
      ]
     },
     "execution_count": 11,
     "metadata": {},
     "output_type": "execute_result"
    }
   ],
   "source": [
    "meta_df.shape"
   ]
  },
  {
   "cell_type": "code",
   "execution_count": 12,
   "id": "260a78a4",
   "metadata": {},
   "outputs": [
    {
     "data": {
      "text/plain": [
       "13000"
      ]
     },
     "execution_count": 12,
     "metadata": {},
     "output_type": "execute_result"
    }
   ],
   "source": [
    "all_json = glob.glob(f'{root_path}/**/*.json', recursive=True)\n",
    "len(all_json)"
   ]
  },
  {
   "cell_type": "code",
   "execution_count": 13,
   "id": "6b61f9bb",
   "metadata": {},
   "outputs": [
    {
     "name": "stdout",
     "output_type": "stream",
     "text": [
      "0007f972812bb45abbe5b0edf8db5359d49c23eb: The role of nicotinic receptors in SARS-CoV-2 receptor ACE2 expression in intestinal epithelia: Background: Recent evidence demonstrated that severe acute respiratory syndrome coronavirus 2 (SARS-CoV-2) propagates in intestinal epithelial cells expressing Angiotensin-Converting Enzyme 2 (ACE2), ... Coronavirus disease 2019 , caused by severe acute respiratory syndrome coronavirus 2 (SARS-CoV-2), is characterized by a vast release of cytokines. Aggravated by following sepsis, this was established...\n"
     ]
    }
   ],
   "source": [
    "class FileReader:\n",
    "    def __init__(self, file_path):\n",
    "        with open(file_path) as file:\n",
    "            content = json.load(file)\n",
    "            self.paper_id = content['paper_id']\n",
    "            self.abstract = []\n",
    "            self.body_text = []\n",
    "            self.title = content['metadata']['title']\n",
    "            # Abstract\n",
    "            for entry in content['abstract']:\n",
    "                self.abstract.append(entry['text'])\n",
    "            # Body text\n",
    "            for entry in content['body_text']:\n",
    "                self.body_text.append(entry['text'])\n",
    "            self.abstract = '\\n'.join(self.abstract)\n",
    "            self.body_text = '\\n'.join(self.body_text)\n",
    "\n",
    "    def __repr__(self):\n",
    "        return f'{self.paper_id}: {self.title}: {self.abstract[:200]}... {self.body_text[:200]}...'\n",
    "first_row = FileReader(all_json[0])\n",
    "print(first_row)"
   ]
  },
  {
   "cell_type": "code",
   "execution_count": 14,
   "id": "fb233c4c",
   "metadata": {},
   "outputs": [
    {
     "name": "stdout",
     "output_type": "stream",
     "text": [
      "Processing index: 0 of 13000\n",
      "Processing index: 1300 of 13000\n",
      "Processing index: 2600 of 13000\n",
      "Processing index: 3900 of 13000\n",
      "Processing index: 5200 of 13000\n",
      "Processing index: 6500 of 13000\n",
      "Processing index: 7800 of 13000\n",
      "Processing index: 9100 of 13000\n",
      "Processing index: 10400 of 13000\n",
      "Processing index: 11700 of 13000\n"
     ]
    }
   ],
   "source": [
    "dict_ = {'paper_id': [], 'title': [], 'abstract': [], 'body_text': []}\n",
    "for idx, entry in enumerate(all_json):\n",
    "    if idx % (len(all_json) // 10) == 0:\n",
    "        print(f'Processing index: {idx} of {len(all_json)}')\n",
    "    content = FileReader(entry)\n",
    "    dict_['paper_id'].append(content.paper_id)\n",
    "    dict_['title'].append(content.title)\n",
    "    dict_['abstract'].append(content.abstract)\n",
    "    dict_['body_text'].append(content.body_text)\n",
    "df_covid = pd.DataFrame(dict_, columns=['paper_id', 'title', 'abstract', 'body_text'])"
   ]
  },
  {
   "cell_type": "code",
   "execution_count": 15,
   "id": "c28c15c9",
   "metadata": {},
   "outputs": [
    {
     "name": "stdout",
     "output_type": "stream",
     "text": [
      "Title: 8572, Abstract: 8572, Body: 8572\n"
     ]
    }
   ],
   "source": [
    "df_covid.head()\n",
    "df_covid.shape\n",
    "df_covid.drop_duplicates(['title'], inplace=True)\n",
    "df_covid.drop_duplicates(['abstract'], inplace=True)\n",
    "df_covid.drop_duplicates(['body_text'], inplace=True)\n",
    "print(f'Title: {df_covid[\"title\"].nunique()}, Abstract: {df_covid[\"abstract\"].nunique()}, Body: {df_covid[\"body_text\"].nunique()}')\n",
    "def lower_case(input_str):\n",
    "    input_str = input_str.lower()\n",
    "    return input_str\n",
    "\n",
    "df_covid['title'] = df_covid['title'].apply(lambda x: lower_case(x))\n",
    "df_covid['body_text'] = df_covid['body_text'].apply(lambda x: lower_case(x))\n",
    "df_covid['abstract'] = df_covid['abstract'].apply(lambda x: lower_case(x))"
   ]
  },
  {
   "cell_type": "code",
   "execution_count": 16,
   "id": "e32bc0e1",
   "metadata": {},
   "outputs": [
    {
     "data": {
      "text/plain": [
       "(8572, 4)"
      ]
     },
     "execution_count": 16,
     "metadata": {},
     "output_type": "execute_result"
    }
   ],
   "source": [
    "df_covid.head()\n",
    "df_covid.shape"
   ]
  },
  {
   "cell_type": "code",
   "execution_count": 17,
   "id": "c381b41c",
   "metadata": {},
   "outputs": [],
   "source": [
    "\n",
    "df_covid.drop_duplicates(['title'], inplace=True)\n",
    "df_covid.drop_duplicates(['abstract'], inplace=True)\n",
    "df_covid.drop_duplicates(['body_text'], inplace=True)"
   ]
  },
  {
   "cell_type": "code",
   "execution_count": 18,
   "id": "f1650709",
   "metadata": {},
   "outputs": [
    {
     "name": "stdout",
     "output_type": "stream",
     "text": [
      "Title: 8564, Abstract: 8564, Body: 8564\n"
     ]
    }
   ],
   "source": [
    "print(f'Title: {df_covid[\"title\"].nunique()}, Abstract: {df_covid[\"abstract\"].nunique()}, Body: {df_covid[\"body_text\"].nunique()}')"
   ]
  },
  {
   "cell_type": "code",
   "execution_count": 19,
   "id": "5105681d",
   "metadata": {},
   "outputs": [],
   "source": [
    "def lower_case(input_str):\n",
    "    input_str = input_str.lower()\n",
    "    return input_str\n",
    "\n",
    "df_covid['title'] = df_covid['title'].apply(lambda x: lower_case(x))\n",
    "df_covid['body_text'] = df_covid['body_text'].apply(lambda x: lower_case(x))\n",
    "df_covid['abstract'] = df_covid['abstract'].apply(lambda x: lower_case(x))"
   ]
  },
  {
   "cell_type": "code",
   "execution_count": 20,
   "id": "39d60306",
   "metadata": {},
   "outputs": [],
   "source": [
    "def regexReplcae(text):\n",
    "    text = re.sub(r\"\\\"\", \" \", text)\n",
    "    text = re.sub(r\"(\\\"?\\')(\\w)\", \" \\2\", text)\n",
    "    text = re.sub(r\"\\?\", \" .\", text)\n",
    "    text = re.sub(r\",\", \"\", text)\n",
    "    text = re.sub(r\"\\.\\s?\", \" SEP.SEP \", text)\n",
    "    text = re.sub(r\"!\", \".\", text)\n",
    "    text = re.sub(r\":\", \"\", text)\n",
    "    text = re.sub(r\"\\s?\\;\\s?\", \"\", text)\n",
    "    text = re.sub(r\"\\/\", \" \", text)\n",
    "    text = re.sub(r\"\\^\", \" ^ \", text)\n",
    "    text = re.sub(r\"\\(\", \"\", text)\n",
    "    text = re.sub(r\"\\)\", \"\", text)\n",
    "    text = re.sub(r\"&\", \" \", text)\n",
    "    text = re.sub(r\"([A-z])\\-([A-z])\", r\"\\1 \\2\", text)\n",
    "    text = re.sub(r\"viruses\", \"virus\", text)\n",
    "    text = re.sub(r\"proteins\", \"protein\", text)\n",
    "    text = re.sub(r\"genes\", \"gene\", text)\n",
    "    text = re.sub(r\"pathogens\", \"pathogen\", text)\n",
    "    text = re.sub(r\"cells\", \"cell\", text)\n",
    "    text = re.sub(r\"drugs\", \"drug\", text)\n",
    "    text = re.sub(r\"vaccines\", \"vaccine\", text)\n",
    "    text = re.sub(r\"vaccination\", \"vaccine\", text)\n",
    "    text = re.sub(r\"genomes\", \"gene\", text)\n",
    "    text = re.sub(r\"genotypes\", \"genotype\", text)\n",
    "    text = re.sub(r\"diseases\", \"disease\", text)\n",
    "    text = re.sub(r\"pathogenesis\", \"pathogen\", text)\n",
    "    text = re.sub(r\"pathogeneis\", \"pathogen\", text)\n",
    "    text = re.sub(r\"pathogenic\", \"pathogen\", text)\n",
    "    text = re.sub(r\"infections\", \"infection\", text)\n",
    "    text = re.sub(r\"infected\", \"infection\", text)\n",
    "    text = re.sub(r\"antibodies\", \"antibody\", text)\n",
    "    text = re.sub(r\"zikv\", \"zikavirus\", text)\n",
    "    text = re.sub(r\"zika\", \"zikavirus\", text)\n",
    "    text = re.sub(r\"bats\", \"bat\", text)\n",
    "    text = re.sub(r\"dogs\", \"dog\", text)\n",
    "    text = re.sub(r\"cats\", \"cat\", text)\n",
    "    text = re.sub(r\"sequences\", \"sequence\", text)\n",
    "    text = re.sub(r\"experiments\", \"experiment\", text)\n",
    "    text = re.sub(r\"sequencing\", \"sequence\", text)\n",
    "    text = re.sub(r\"author\\s?\", \"\", text)\n",
    "    text = re.sub(r\"corresponding\\s?\", \"\", text)\n",
    "    text = re.sub(r\"inhibited\", \"inhibit\", text)\n",
    "    text = re.sub(r\"inhibitor\", \"inhibit\", text)\n",
    "    text = re.sub(r\"adults\", \"adult\", text)   \n",
    "    text = re.sub(r\"interactions\", \"interaction\", text)\n",
    "    text = re.sub(r\"[^\\s@]+@[^\\s@]+\\.[^\\s@]{2,}\", \" \", text)\n",
    "    return text"
   ]
  },
  {
   "cell_type": "code",
   "execution_count": 21,
   "id": "53d50702",
   "metadata": {},
   "outputs": [],
   "source": [
    "\n",
    "all_text = ' '.join(df_covid['abstract'])\n",
    "all_text = regexReplcae(all_text)"
   ]
  },
  {
   "cell_type": "code",
   "execution_count": 22,
   "id": "6f22eb8b",
   "metadata": {},
   "outputs": [
    {
     "name": "stderr",
     "output_type": "stream",
     "text": [
      "[nltk_data] Downloading package punkt to C:\\Users\\Mohammad\n",
      "[nltk_data]     Sabber\\AppData\\Roaming\\nltk_data...\n",
      "[nltk_data]   Package punkt is already up-to-date!\n"
     ]
    }
   ],
   "source": [
    "import nltk\n",
    "nltk.download('punkt')\n",
    "allWords = nltk.tokenize.word_tokenize(all_text)\n",
    "allWordDist = nltk.FreqDist(w.lower() for w in allWords)"
   ]
  },
  {
   "cell_type": "code",
   "execution_count": 23,
   "id": "e8fed671",
   "metadata": {},
   "outputs": [],
   "source": [
    "freq_df = pd.DataFrame(allWordDist.items()).rename(columns = {0:'word', 1: 'count'})\n",
    "freq_df.sort_values(by = ['count'], ascending = False, inplace= True)"
   ]
  },
  {
   "cell_type": "code",
   "execution_count": 24,
   "id": "863be78d",
   "metadata": {},
   "outputs": [
    {
     "data": {
      "text/plain": [
       "word     38137\n",
       "count    38137\n",
       "dtype: int64"
      ]
     },
     "execution_count": 24,
     "metadata": {},
     "output_type": "execute_result"
    }
   ],
   "source": [
    "freq_df[freq_df['count'] <= 1].count()"
   ]
  },
  {
   "cell_type": "code",
   "execution_count": 25,
   "id": "646280e4",
   "metadata": {},
   "outputs": [
    {
     "data": {
      "text/plain": [
       "(73889, 2)"
      ]
     },
     "execution_count": 25,
     "metadata": {},
     "output_type": "execute_result"
    }
   ],
   "source": [
    "freq_df.shape"
   ]
  },
  {
   "cell_type": "code",
   "execution_count": 26,
   "id": "bd1c6732",
   "metadata": {
    "scrolled": true
   },
   "outputs": [
    {
     "data": {
      "image/png": "[encoded data removed]",
      "text/plain": [
       "<Figure size 432x288 with 1 Axes>"
      ]
     },
     "metadata": {},
     "output_type": "display_data"
    }
   ],
   "source": [
    "import matplotlib.pyplot as plt\n",
    "plt.hist(freq_df[freq_df['count'] >100]['count'], bins = 50, density=False);"
   ]
  },
  {
   "cell_type": "code",
   "execution_count": 27,
   "id": "905347d0",
   "metadata": {},
   "outputs": [
    {
     "name": "stdout",
     "output_type": "stream",
     "text": [
      "Stop words from histogram: 2433\n"
     ]
    }
   ],
   "source": [
    "print(f'Stop words from histogram: {len(list(freq_df[freq_df[\"count\"]  >= 100][\"word\"]))}')"
   ]
  },
  {
   "cell_type": "code",
   "execution_count": 28,
   "id": "fc077000",
   "metadata": {},
   "outputs": [
    {
     "name": "stderr",
     "output_type": "stream",
     "text": [
      "[nltk_data] Downloading package stopwords to C:\\Users\\Mohammad\n",
      "[nltk_data]     Sabber\\AppData\\Roaming\\nltk_data...\n"
     ]
    },
    {
     "name": "stdout",
     "output_type": "stream",
     "text": [
      "Total number of stopwords: 2796\n"
     ]
    },
    {
     "name": "stderr",
     "output_type": "stream",
     "text": [
      "[nltk_data]   Package stopwords is already up-to-date!\n"
     ]
    }
   ],
   "source": [
    "import nltk\n",
    "nltk.download('stopwords')\n",
    "from nltk.corpus import stopwords\n",
    "from stopwords_list import stopwords_list\n",
    "updated_stopwords = list(set(stopwords.words(\"english\")).union(set(stopwords_list)))\n",
    "print(f'Total number of stopwords: {len(updated_stopwords)}')"
   ]
  },
  {
   "cell_type": "code",
   "execution_count": 29,
   "id": "c215d804",
   "metadata": {},
   "outputs": [],
   "source": [
    "def clean_text(text):\n",
    "    text = regexReplcae(text)\n",
    "    text = text.lower().split()\n",
    "    text = [w for w in text if w not in updated_stopwords  and len(w) > 2]\n",
    "    aa = nltk.pos_tag(text)\n",
    "    text = [pair[0] for pair in aa if pair[1] == 'NNS' or pair[1] == 'NN' or pair[1] == 'NNP' or pair[1] == 'NNPS' or  pair[1] == 'CC' or pair[1] == 'RB' or pair[1] == 'sep.sep']\n",
    "    text = \" \".join(text)\n",
    "    text = re.sub(r\"\\s?sep\\.sep\\s?\", \". \", text)\n",
    "    \n",
    "    if text is None:\n",
    "        return na\n",
    "    else:\n",
    "        return text"
   ]
  },
  {
   "cell_type": "code",
   "execution_count": 30,
   "id": "975c23b3",
   "metadata": {},
   "outputs": [],
   "source": [
    "import nltk\n",
    "\n",
    "df_covid['processed_title'] = df_covid['title'].map(lambda x: clean_text(x))\n",
    "df_covid['processed_abstract'] = df_covid['abstract'].map(lambda x: clean_text(x))"
   ]
  },
  {
   "cell_type": "code",
   "execution_count": 31,
   "id": "57a07c36",
   "metadata": {},
   "outputs": [
    {
     "data": {
      "text/html": [
       "<div>\n",
       "<style scoped>\n",
       "    .dataframe tbody tr th:only-of-type {\n",
       "        vertical-align: middle;\n",
       "    }\n",
       "\n",
       "    .dataframe tbody tr th {\n",
       "        vertical-align: top;\n",
       "    }\n",
       "\n",
       "    .dataframe thead th {\n",
       "        text-align: right;\n",
       "    }\n",
       "</style>\n",
       "<table border=\"1\" class=\"dataframe\">\n",
       "  <thead>\n",
       "    <tr style=\"text-align: right;\">\n",
       "      <th></th>\n",
       "      <th>paper_id</th>\n",
       "      <th>title</th>\n",
       "      <th>abstract</th>\n",
       "      <th>body_text</th>\n",
       "      <th>processed_title</th>\n",
       "      <th>processed_abstract</th>\n",
       "    </tr>\n",
       "  </thead>\n",
       "  <tbody>\n",
       "    <tr>\n",
       "      <th>0</th>\n",
       "      <td>0007f972812bb45abbe5b0edf8db5359d49c23eb</td>\n",
       "      <td>the role of nicotinic receptors in sars-cov-2 ...</td>\n",
       "      <td>background: recent evidence demonstrated that ...</td>\n",
       "      <td>coronavirus disease 2019 , caused by severe ac...</td>\n",
       "      <td>receptors receptor epithelia</td>\n",
       "      <td>respiratory syndrome coronavirus propagates ce...</td>\n",
       "    </tr>\n",
       "    <tr>\n",
       "      <th>1</th>\n",
       "      <td>0008c57de475138d903f2cca7003cf1e1ad93cf4</td>\n",
       "      <td>the effect of gramicidin inclusions on the loc...</td>\n",
       "      <td>we study the local effect of the antimicrobial...</td>\n",
       "      <td>the effect on the cell membrane of inclusions ...</td>\n",
       "      <td>gramicidin inclusions membrane</td>\n",
       "      <td>peptide gramicidin bilayers surfactants resona...</td>\n",
       "    </tr>\n",
       "    <tr>\n",
       "      <th>2</th>\n",
       "      <td>006a64c63751b895299d7a54bb131e6388924945</td>\n",
       "      <td>comment on: underwater-seal evacuation of surg...</td>\n",
       "      <td></td>\n",
       "      <td>we read with great interest the published pape...</td>\n",
       "      <td>comment evacuation smoke feasibility simple te...</td>\n",
       "      <td></td>\n",
       "    </tr>\n",
       "    <tr>\n",
       "      <th>4</th>\n",
       "      <td>006bce86ab0dd9c1f16fc2a83a111735c97d945b</td>\n",
       "      <td>contamination inside ct gantry in the sars-cov...</td>\n",
       "      <td>we investigated whether the internal gantry co...</td>\n",
       "      <td>many computed tomography (ct) scanners are equ...</td>\n",
       "      <td>contamination gantry sars era</td>\n",
       "      <td>gantry tomography scanner contain respiratory ...</td>\n",
       "    </tr>\n",
       "    <tr>\n",
       "      <th>5</th>\n",
       "      <td>006be5ba67759a525ae8e211f43bd8e4429a64f0</td>\n",
       "      <td>human astroviruses: in silico analysis of the ...</td>\n",
       "      <td>human astrovirus (hastv) constitutes a major c...</td>\n",
       "      <td>human astroviruses (hastvs) are a major cause ...</td>\n",
       "      <td>astrovirus silico protein</td>\n",
       "      <td>astrovirus hastv gastroenteritis. astrovirues ...</td>\n",
       "    </tr>\n",
       "  </tbody>\n",
       "</table>\n",
       "</div>"
      ],
      "text/plain": [
       "                                   paper_id  \\\n",
       "0  0007f972812bb45abbe5b0edf8db5359d49c23eb   \n",
       "1  0008c57de475138d903f2cca7003cf1e1ad93cf4   \n",
       "2  006a64c63751b895299d7a54bb131e6388924945   \n",
       "4  006bce86ab0dd9c1f16fc2a83a111735c97d945b   \n",
       "5  006be5ba67759a525ae8e211f43bd8e4429a64f0   \n",
       "\n",
       "                                               title  \\\n",
       "0  the role of nicotinic receptors in sars-cov-2 ...   \n",
       "1  the effect of gramicidin inclusions on the loc...   \n",
       "2  comment on: underwater-seal evacuation of surg...   \n",
       "4  contamination inside ct gantry in the sars-cov...   \n",
       "5  human astroviruses: in silico analysis of the ...   \n",
       "\n",
       "                                            abstract  \\\n",
       "0  background: recent evidence demonstrated that ...   \n",
       "1  we study the local effect of the antimicrobial...   \n",
       "2                                                      \n",
       "4  we investigated whether the internal gantry co...   \n",
       "5  human astrovirus (hastv) constitutes a major c...   \n",
       "\n",
       "                                           body_text  \\\n",
       "0  coronavirus disease 2019 , caused by severe ac...   \n",
       "1  the effect on the cell membrane of inclusions ...   \n",
       "2  we read with great interest the published pape...   \n",
       "4  many computed tomography (ct) scanners are equ...   \n",
       "5  human astroviruses (hastvs) are a major cause ...   \n",
       "\n",
       "                                     processed_title  \\\n",
       "0                       receptors receptor epithelia   \n",
       "1                     gramicidin inclusions membrane   \n",
       "2  comment evacuation smoke feasibility simple te...   \n",
       "4                      contamination gantry sars era   \n",
       "5                          astrovirus silico protein   \n",
       "\n",
       "                                  processed_abstract  \n",
       "0  respiratory syndrome coronavirus propagates ce...  \n",
       "1  peptide gramicidin bilayers surfactants resona...  \n",
       "2                                                     \n",
       "4  gantry tomography scanner contain respiratory ...  \n",
       "5  astrovirus hastv gastroenteritis. astrovirues ...  "
      ]
     },
     "execution_count": 31,
     "metadata": {},
     "output_type": "execute_result"
    }
   ],
   "source": [
    "df_covid.head(5)"
   ]
  },
  {
   "cell_type": "code",
   "execution_count": null,
   "id": "ff6a853c",
   "metadata": {},
   "outputs": [],
   "source": []
  },
  {
   "cell_type": "code",
   "execution_count": 32,
   "id": "0778a9cc",
   "metadata": {},
   "outputs": [],
   "source": [
    "graph = Graph(\"bolt://localhost:7687\", auth = (\"neo4j\", 'SABBIR123'))"
   ]
  },
  {
   "cell_type": "code",
   "execution_count": 33,
   "id": "77998b8c",
   "metadata": {},
   "outputs": [],
   "source": [
    "CREATE_MODEL = '''\n",
    "CREATE \n",
    "  (`0` :Word ) ,\n",
    "  (`1` :Word ) ,\n",
    "  (`0`)-[:`NEXT_WORD` ]->(`1`)\n",
    "'''\n",
    "\n",
    "DELETE_EXISTING_DATA = '''MATCH (n) DETACH DELETE n'''\n",
    "CREATE_WORD_CONSTRAINT = '''CREATE CONSTRAINT ON (W:Word) ASSERT W.name is unique;'''\n",
    "\n",
    "INSERT_DATA = '''\n",
    "WITH split($sentence, \" \") as words\n",
    "unwind range(0,size(words)-2) as idx\n",
    "\n",
    "MERGE (w1:Word {name: words[idx]})\n",
    "  ON CREATE SET w1.count = 1 ON MATCH SET w1.count =  1 + w1.count\n",
    "\n",
    "MERGE (w2:Word {name: words[idx+1]})\n",
    "  ON CREATE SET w2.count = 1 ON MATCH SET w2.count =  1 + (case when idx = size(words)-2 then 1 else 0 end)\n",
    "\n",
    "MERGE (w1)-[NW: NEXT_WORD]->(w2)\n",
    "  ON CREATE SET NW.count = 1 ON MATCH SET NW.count = 1 + NW.count\n",
    "'''"
   ]
  },
  {
   "cell_type": "code",
   "execution_count": 34,
   "id": "5a9d5302",
   "metadata": {},
   "outputs": [
    {
     "data": {
      "text/html": [
       "(No data)"
      ],
      "text/plain": [
       "(No data)"
      ]
     },
     "execution_count": 34,
     "metadata": {},
     "output_type": "execute_result"
    }
   ],
   "source": [
    "graph.delete_all()\n",
    "graph.run(DELETE_EXISTING_DATA)\n",
    "graph.run(CREATE_MODEL)\n",
    "graph.run(CREATE_WORD_CONSTRAINT)"
   ]
  },
  {
   "cell_type": "code",
   "execution_count": 35,
   "id": "dec0f7c0",
   "metadata": {},
   "outputs": [],
   "source": [
    "for lines in df_covid['processed_abstract']:\n",
    "    aa = lines.split('.')\n",
    "    for sentence in aa:\n",
    "        if sentence != \"\":\n",
    "            graph.run(INSERT_DATA, parameters = {'sentence': sentence.strip()})"
   ]
  },
  {
   "cell_type": "code",
   "execution_count": 36,
   "id": "e3f0a8fe",
   "metadata": {},
   "outputs": [
    {
     "data": {
      "text/html": [
       "(No data)"
      ],
      "text/plain": [
       "(No data)"
      ]
     },
     "execution_count": 36,
     "metadata": {},
     "output_type": "execute_result"
    }
   ],
   "source": [
    "DELETE_EMPTY_NODE = '''\n",
    "MATCH (n { name:\"\" })\n",
    "DETACH DELETE n\n",
    "'''\n",
    "graph.run(DELETE_EMPTY_NODE)"
   ]
  },
  {
   "cell_type": "code",
   "execution_count": null,
   "id": "f458f5f3",
   "metadata": {},
   "outputs": [],
   "source": []
  },
  {
   "cell_type": "code",
   "execution_count": null,
   "id": "12f11404",
   "metadata": {},
   "outputs": [],
   "source": []
  }
 ],
 "metadata": {
  "kernelspec": {
   "display_name": "Python 3 (ipykernel)",
   "language": "python",
   "name": "python3"
  },
  "language_info": {
   "codemirror_mode": {
    "name": "ipython",
    "version": 3
   },
   "file_extension": ".py",
   "mimetype": "text/x-python",
   "name": "python",
   "nbconvert_exporter": "python",
   "pygments_lexer": "ipython3",
   "version": "3.9.6"
  }
 },
 "nbformat": 4,
 "nbformat_minor": 5
}
